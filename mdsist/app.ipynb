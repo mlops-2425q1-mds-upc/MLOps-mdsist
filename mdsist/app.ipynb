{
 "cells": [
  {
   "cell_type": "markdown",
   "metadata": {},
   "source": [
    "# API"
   ]
  },
  {
   "cell_type": "markdown",
   "metadata": {},
   "source": [
    "Raw code snippets for api part"
   ]
  },
  {
   "cell_type": "code",
   "execution_count": 68,
   "metadata": {},
   "outputs": [
    {
     "data": {
      "text/plain": [
       "True"
      ]
     },
     "execution_count": 68,
     "metadata": {},
     "output_type": "execute_result"
    }
   ],
   "source": [
    "import numpy as np\n",
    "import uvicorn\n",
    "import mlflow\n",
    "import mdsist.util as util\n",
    "\n",
    "from fastapi import FastAPI\n",
    "from pydantic import BaseModel\n",
    "\n",
    "# Load packages\n",
    "from torch.utils.data import DataLoader\n",
    "import torchvision.transforms as transforms\n",
    "\n",
    "from mdsist.dataset import MdsistDataset\n",
    "from mdsist.config import DATA_DIR, PROCESSED_DATA_DIR\n",
    "from mdsist.predictor import Predictor\n",
    "\n",
    "import asyncio\n",
    "\n",
    "import mlflow\n",
    "import mlflow.pytorch\n",
    "\n",
    "import mdsist.util as util\n",
    "import json\n",
    "import requests\n",
    "\n",
    "from dotenv import load_dotenv\n",
    "\n",
    "# Load envionment variables\n",
    "load_dotenv()"
   ]
  },
  {
   "cell_type": "markdown",
   "metadata": {},
   "source": [
    "## Implementation"
   ]
  },
  {
   "cell_type": "code",
   "execution_count": 69,
   "metadata": {},
   "outputs": [
    {
     "data": {
      "application/vnd.jupyter.widget-view+json": {
       "model_id": "4c71935844264b5aa9d5b9216ac643da",
       "version_major": 2,
       "version_minor": 0
      },
      "text/plain": [
       "Downloading artifacts:   0%|          | 0/6 [00:00<?, ?it/s]"
      ]
     },
     "metadata": {},
     "output_type": "display_data"
    }
   ],
   "source": [
    "## Import model from MLFlow, with below URI\n",
    "MODEL_URI = 'runs:/10cb51b288134c48835a8c0b9fe66eca/model_20240930190709'\n",
    "#'models:/CNNv1-production/'\n",
    "\n",
    "device = util.get_available_device()\n",
    "\n",
    "model = mlflow.pytorch.load_model(MODEL_URI, map_location=device)\n",
    "\n",
    "pred = Predictor(model)"
   ]
  },
  {
   "cell_type": "code",
   "execution_count": 70,
   "metadata": {},
   "outputs": [],
   "source": [
    "app = FastAPI()"
   ]
  },
  {
   "cell_type": "code",
   "execution_count": 71,
   "metadata": {},
   "outputs": [],
   "source": [
    "class PredictionRequest(BaseModel):\n",
    "    image: list # The input data should be an array list of 256 pixel\n",
    "\n",
    "\n",
    "@app.get(\"/test\")\n",
    "async def test():\n",
    "    return \"It works\"\n",
    "\n",
    "@app.post(\"/mnist-model-prediction/\")\n",
    "async def predict(data: PredictionRequest):\n",
    "    # pass the image as byte, then from buffer.\n",
    "    \n",
    "    image_array = np.frombuffer(dtype= np.uint8) # this method interprets a buffer as a 1D array. \n",
    "\n",
    "    # reshape uint8 to below structure\n",
    "    # shape (N, 1, H, W) # N = degree of freedom, -1.  H = 28, W = 28\n",
    "\n",
    "    images = image_array.reshape((-1, 1, 28, 28))\n",
    "    \n",
    "    prediction = pred.predict(images)\n",
    "\n",
    "    print(prediction)\n",
    "    #return{\"prediction\": int(prediction[0])}\n"
   ]
  },
  {
   "cell_type": "markdown",
   "metadata": {},
   "source": [
    "## API test"
   ]
  },
  {
   "cell_type": "code",
   "execution_count": 72,
   "metadata": {},
   "outputs": [],
   "source": [
    "\n",
    "with open(DATA_DIR /'images_jpg/test/0/13.jpg', 'rb') as p:\n",
    "    image = p.read()"
   ]
  },
  {
   "cell_type": "code",
   "execution_count": 73,
   "metadata": {},
   "outputs": [],
   "source": [
    "test_dataset = MdsistDataset(PROCESSED_DATA_DIR / 'test.parquet')\n",
    "image_dict = test_dataset.data.loc[0, \"image\"]\n",
    "image_array = test_dataset.decode_png_image(image_dict)\n",
    "image = image_dict.get('bytes')"
   ]
  },
  {
   "cell_type": "code",
   "execution_count": 74,
   "metadata": {},
   "outputs": [
    {
     "name": "stdout",
     "output_type": "stream",
     "text": [
      "It works\n"
     ]
    }
   ],
   "source": [
    "response = requests.get(\"http://localhost:8000/test\")\n",
    "print(json.loads(response.text))"
   ]
  },
  {
   "cell_type": "markdown",
   "metadata": {},
   "source": [
    "for some reason, image shape is not coincident"
   ]
  },
  {
   "cell_type": "code",
   "execution_count": 75,
   "metadata": {},
   "outputs": [
    {
     "name": "stdout",
     "output_type": "stream",
     "text": [
      "Internal Server Error\n"
     ]
    }
   ],
   "source": [
    "# Set the headers to indicate the content type as 'application/octet-stream'\n",
    "headers = {'Content-Type': 'application/octet-stream'}\n",
    "resp = requests.post(\"http://localhost:8000/mnist-model-prediction\", headers=headers,data=image)\n",
    "print(resp.text)"
   ]
  }
 ],
 "metadata": {
  "kernelspec": {
   "display_name": "mdsist-j1bbbV5p-py3.9",
   "language": "python",
   "name": "python3"
  },
  "language_info": {
   "codemirror_mode": {
    "name": "ipython",
    "version": 3
   },
   "file_extension": ".py",
   "mimetype": "text/x-python",
   "name": "python",
   "nbconvert_exporter": "python",
   "pygments_lexer": "ipython3",
   "version": "3.9.7"
  }
 },
 "nbformat": 4,
 "nbformat_minor": 2
}
