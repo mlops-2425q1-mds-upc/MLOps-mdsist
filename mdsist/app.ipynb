{
 "cells": [
  {
   "cell_type": "code",
   "execution_count": 31,
   "metadata": {},
   "outputs": [
    {
     "name": "stderr",
     "output_type": "stream",
     "text": [
      "\u001b[32m2024-11-08 12:51:30.741\u001b[0m | \u001b[1mINFO    \u001b[0m | \u001b[36mmdsist.config\u001b[0m:\u001b[36m<module>\u001b[0m:\u001b[36m15\u001b[0m - \u001b[1mPROJ_ROOT path is: D:\\Users\\Zhengyong Ji\\Documents\\GitHub\\MLOps-mdist\u001b[0m\n"
     ]
    }
   ],
   "source": [
    "import joblib\n",
    "import numpy as np\n",
    "import uvicorn\n",
    "import mlflow\n",
    "import mdsist.util as util\n",
    "\n",
    "from fastapi import FastAPI\n",
    "from pydantic import BaseModel\n",
    "\n",
    "# Load packages\n",
    "from torch.utils.data import DataLoader\n",
    "import torchvision.transforms as transforms\n",
    "\n",
    "from mdsist.dataset import MdsistDataset\n",
    "from mdsist.config import PROCESSED_DATA_DIR\n",
    "from mdsist.trainer import Trainer\n",
    "\n",
    "import mlflow\n",
    "import mlflow.pytorch\n",
    "\n",
    "import mdsist.util as util"
   ]
  },
  {
   "cell_type": "code",
   "execution_count": 32,
   "metadata": {},
   "outputs": [
    {
     "data": {
      "text/plain": [
       "True"
      ]
     },
     "execution_count": 32,
     "metadata": {},
     "output_type": "execute_result"
    }
   ],
   "source": [
    "from dotenv import load_dotenv\n",
    "\n",
    "# Load envionment variables\n",
    "load_dotenv()"
   ]
  },
  {
   "cell_type": "code",
   "execution_count": null,
   "metadata": {},
   "outputs": [
    {
     "data": {
      "application/vnd.jupyter.widget-view+json": {
       "model_id": "f95b47f6284f4abe8802030db7a6f23e",
       "version_major": 2,
       "version_minor": 0
      },
      "text/plain": [
       "Downloading artifacts:   0%|          | 0/6 [00:00<?, ?it/s]"
      ]
     },
     "metadata": {},
     "output_type": "display_data"
    }
   ],
   "source": [
    "## Import model from MLFlow, with below URI\n",
    "MODEL_URI = 'runs:/10cb51b288134c48835a8c0b9fe66eca/model_20240930190709'\n",
    "#'models:/CNNv1-production/'\n",
    "\n",
    "device = util.get_available_device()\n",
    "\n",
    "model = mlflow.pytorch.load_model(MODEL_URI, map_location=device)"
   ]
  },
  {
   "cell_type": "code",
   "execution_count": 40,
   "metadata": {},
   "outputs": [],
   "source": [
    "app = FastAPI()"
   ]
  },
  {
   "cell_type": "code",
   "execution_count": null,
   "metadata": {},
   "outputs": [],
   "source": [
    "class PredictionRequest(BaseModel):\n",
    "    image: list # The input data should be an array list of 256 pixel\n",
    "\n",
    "@app.post(\"/mnist-model-prediction/\")\n",
    "async def predict(data: PredictionRequest):\n",
    "    # pass the image as byte, then from buffer.\n",
    "    \n",
    "    image_array = np.frombuffer(dtype= np.uint8) # this method interprets a buffer as a 1D array. \n",
    "\n",
    "    # reshape uint8 to below structure\n",
    "    # shape (N, 1, H, W) # N = degree of freedom, -1.  H = 28, W = 28\n",
    "\n",
    "    images = image_array.reshape((-1, 1, 28, 28))\n",
    "    \n",
    "\n",
    "    prediction = model.predict(images)\n",
    "\n",
    "    return{\"prediction\": int(prediction[0])}\n"
   ]
  },
  {
   "cell_type": "code",
   "execution_count": null,
   "metadata": {},
   "outputs": [],
   "source": []
  }
 ],
 "metadata": {
  "kernelspec": {
   "display_name": "mdsist-4QFY0-se-py3.9",
   "language": "python",
   "name": "python3"
  },
  "language_info": {
   "codemirror_mode": {
    "name": "ipython",
    "version": 3
   },
   "file_extension": ".py",
   "mimetype": "text/x-python",
   "name": "python",
   "nbconvert_exporter": "python",
   "pygments_lexer": "ipython3",
   "version": "3.9.20"
  }
 },
 "nbformat": 4,
 "nbformat_minor": 2
}
