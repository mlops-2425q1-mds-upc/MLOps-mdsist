{
 "cells": [
  {
   "cell_type": "markdown",
   "metadata": {},
   "source": [
    "# Raw Data Visualization\n",
    "Simple script to inspect the data merge produced in preprocessing step and to visually ensure the quality of the data "
   ]
  },
  {
   "cell_type": "code",
   "execution_count": 1,
   "metadata": {},
   "outputs": [],
   "source": [
    "import pandas as pd\n",
    "import matplotlib.pyplot as plt\n",
    "import numpy as np\n",
    "from PIL import Image\n",
    "import io\n"
   ]
  },
  {
   "cell_type": "code",
   "execution_count": 2,
   "metadata": {},
   "outputs": [],
   "source": [
    "df = pd.read_parquet(\"../data/raw/raw_data.parquet\", engine=\"pyarrow\")"
   ]
  },
  {
   "cell_type": "code",
   "execution_count": 3,
   "metadata": {},
   "outputs": [],
   "source": [
    "def decode_png_image(image_dict):\n",
    "    # Extract the binary png data\n",
    "    png_bytes = image_dict.get('bytes')\n",
    "\n",
    "    # Create a BytesIO object from the binary data\n",
    "    image_stream = io.BytesIO(png_bytes)\n",
    "\n",
    "    # Open the image using Pillow\n",
    "    with Image.open(image_stream) as img:\n",
    "        img = img.convert('L') \n",
    "        # Convert the image to a NumPy array\n",
    "        image_array = np.array(img)\n",
    "\n",
    "    return image_array"
   ]
  },
  {
   "cell_type": "code",
   "execution_count": 4,
   "metadata": {},
   "outputs": [],
   "source": [
    "def visualize_single_image(df, index):\n",
    "    # Retrieve the image dictionary and label\n",
    "    image_dict = df.loc[index, 'image']\n",
    "    label = df.loc[index, 'label']\n",
    "\n",
    "    # Decode the PNG image\n",
    "    image_array = decode_png_image(image_dict)\n",
    "\n",
    "    # Plot the image\n",
    "    plt.imshow(image_array, cmap='gray')\n",
    "    plt.title(f\"Label: {label}\")\n",
    "    plt.axis('off')\n",
    "    plt.show()\n"
   ]
  },
  {
   "cell_type": "markdown",
   "metadata": {},
   "source": [
    "By changing the index, you can visualize other images in order to guarantee their integrity"
   ]
  },
  {
   "cell_type": "code",
   "execution_count": 5,
   "metadata": {},
   "outputs": [
    {
     "data": {
      "image/png": "[encoded data removed]",
      "text/plain": [
       "<Figure size 640x480 with 1 Axes>"
      ]
     },
     "metadata": {},
     "output_type": "display_data"
    }
   ],
   "source": [
    "visualize_single_image(df, index=1)\n"
   ]
  }
 ],
 "metadata": {
  "kernelspec": {
   "display_name": "mdsist-j1bbbV5p-py3.11",
   "language": "python",
   "name": "python3"
  },
  "language_info": {
   "codemirror_mode": {
    "name": "ipython",
    "version": 3
   },
   "file_extension": ".py",
   "mimetype": "text/x-python",
   "name": "python",
   "nbconvert_exporter": "python",
   "pygments_lexer": "ipython3",
   "version": "3.11.0"
  }
 },
 "nbformat": 4,
 "nbformat_minor": 2
}
