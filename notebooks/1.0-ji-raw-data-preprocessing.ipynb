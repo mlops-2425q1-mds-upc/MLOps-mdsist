{
 "cells": [
  {
   "cell_type": "markdown",
   "metadata": {},
   "source": [
    "# Raw data preprocessing\n",
    "\n",
    "Combine test and train datasets given in as ingle parquet file"
   ]
  },
  {
   "cell_type": "code",
   "execution_count": 1,
   "metadata": {},
   "outputs": [],
   "source": [
    "import pyarrow as pa\n",
    "import pyarrow.parquet as pq"
   ]
  },
  {
   "cell_type": "code",
   "execution_count": 2,
   "metadata": {},
   "outputs": [],
   "source": [
    "# Read test and train file, and then merge it together\n",
    "files = [\"../data/raw/test-00000-of-00001.parquet\", \"../data/raw/train-00000-of-00001.parquet\"]\n",
    "tables = [pq.read_table(file) for file in files]\n",
    "combined_table = pa.concat_tables(tables)\n",
    "\n",
    "\n",
    "pq.write_table(combined_table, \"../data/raw/raw_data.parquet\")"
   ]
  }
 ],
 "metadata": {
  "kernelspec": {
   "display_name": "base",
   "language": "python",
   "name": "python3"
  },
  "language_info": {
   "codemirror_mode": {
    "name": "ipython",
    "version": 3
   },
   "file_extension": ".py",
   "mimetype": "text/x-python",
   "name": "python",
   "nbconvert_exporter": "python",
   "pygments_lexer": "ipython3",
   "version": "3.11.7"
  }
 },
 "nbformat": 4,
 "nbformat_minor": 2
}
