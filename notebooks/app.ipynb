{
 "cells": [
  {
   "cell_type": "markdown",
   "metadata": {},
   "source": [
    "# API"
   ]
  },
  {
   "cell_type": "markdown",
   "metadata": {},
   "source": [
    "Raw code snippets for api part"
   ]
  },
  {
   "cell_type": "code",
   "execution_count": 74,
   "metadata": {},
   "outputs": [
    {
     "data": {
      "text/plain": [
       "True"
      ]
     },
     "execution_count": 74,
     "metadata": {},
     "output_type": "execute_result"
    }
   ],
   "source": [
    "import numpy as np\n",
    "import mlflow\n",
    "import mdsist.util as util\n",
    "\n",
    "from fastapi import FastAPI\n",
    "from pydantic import BaseModel\n",
    "import matplotlib.pyplot as plt\n",
    "\n",
    "# Load packages\n",
    "from torchinfo.layer_info import LayerInfo\n",
    "import torchinfo\n",
    "\n",
    "from mdsist.dataset import MdsistDataset\n",
    "from mdsist.config import DATA_DIR, PROCESSED_DATA_DIR\n",
    "from mdsist.predictor import Predictor\n",
    "\n",
    "import mlflow\n",
    "import mlflow.pytorch\n",
    "\n",
    "import mdsist.util as util\n",
    "import json\n",
    "import requests\n",
    "\n",
    "from dotenv import load_dotenv\n",
    "\n",
    "# Load envionment variables\n",
    "load_dotenv()"
   ]
  },
  {
   "cell_type": "markdown",
   "metadata": {},
   "source": [
    "## Implementation"
   ]
  },
  {
   "cell_type": "code",
   "execution_count": 75,
   "metadata": {},
   "outputs": [
    {
     "data": {
      "application/vnd.jupyter.widget-view+json": {
       "model_id": "49ca3166b89a4a95b8d7a1783f88984f",
       "version_major": 2,
       "version_minor": 0
      },
      "text/plain": [
       "Downloading artifacts:   0%|          | 0/6 [00:00<?, ?it/s]"
      ]
     },
     "metadata": {},
     "output_type": "display_data"
    }
   ],
   "source": [
    "## Import model from MLFlow, with below URI\n",
    "MODEL_URI = 'runs:/10cb51b288134c48835a8c0b9fe66eca/model_20240930190709'\n",
    "#'models:/CNNv1-production/'\n",
    "\n",
    "device = util.get_available_device()\n",
    "\n",
    "model = mlflow.pytorch.load_model(MODEL_URI, map_location=device)\n",
    "\n",
    "pred = Predictor(model)"
   ]
  },
  {
   "cell_type": "code",
   "execution_count": 76,
   "metadata": {},
   "outputs": [],
   "source": [
    "app = FastAPI()"
   ]
  },
  {
   "cell_type": "code",
   "execution_count": 77,
   "metadata": {},
   "outputs": [],
   "source": [
    "class PredictionRequest(BaseModel):\n",
    "    image: list # The input data should be an array list of 256 pixel\n",
    "\n",
    "\n",
    "@app.get(\"/test\")\n",
    "async def test():\n",
    "    return \"It works\"\n",
    "\n",
    "@app.post(\"/mnist-model-prediction/\")\n",
    "async def predict(data: PredictionRequest):\n",
    "    # pass the image as byte, then from buffer.\n",
    "    \n",
    "    image_array = np.frombuffer(dtype= np.uint8) # this method interprets a buffer as a 1D array. \n",
    "\n",
    "    # reshape uint8 to below structure\n",
    "    # shape (N, 1, H, W) # N = degree of freedom, -1.  H = 28, W = 28\n",
    "\n",
    "    images = image_array.reshape((-1, 1, 28, 28))\n",
    "    \n",
    "    prediction = pred.predict(images)\n",
    "\n",
    "    print(prediction)\n",
    "    #return{\"prediction\": int(prediction[0])}\n"
   ]
  },
  {
   "cell_type": "markdown",
   "metadata": {},
   "source": [
    "### Predictor test"
   ]
  },
  {
   "cell_type": "code",
   "execution_count": 78,
   "metadata": {},
   "outputs": [
    {
     "data": {
      "application/vnd.jupyter.widget-view+json": {
       "model_id": "f711f2b5b2954062894eea5d6d01492a",
       "version_major": 2,
       "version_minor": 0
      },
      "text/plain": [
       "Downloading artifacts:   0%|          | 0/6 [00:00<?, ?it/s]"
      ]
     },
     "metadata": {},
     "output_type": "display_data"
    }
   ],
   "source": [
    "## Import model from MLFlow, with below URI\n",
    "MODEL_URI = \"runs:/10cb51b288134c48835a8c0b9fe66eca/model_20240930190709\"\n",
    "#'models:/CNNv1-production/'\n",
    "\n",
    "device = util.get_available_device()\n",
    "\n",
    "model = mlflow.pytorch.load_model(MODEL_URI, map_location=device)\n",
    "\n",
    "pred = Predictor(model)"
   ]
  },
  {
   "cell_type": "code",
   "execution_count": 79,
   "metadata": {},
   "outputs": [],
   "source": [
    "test_dataset = MdsistDataset(PROCESSED_DATA_DIR / 'test.parquet')\n",
    "image_dict = test_dataset.data.loc[0, \"image\"]\n",
    "image_array = test_dataset.decode_png_image(image_dict)\n",
    "image = image_array.tobytes()"
   ]
  },
  {
   "cell_type": "code",
   "execution_count": 80,
   "metadata": {},
   "outputs": [
    {
     "name": "stdout",
     "output_type": "stream",
     "text": [
      "[[  0   0   0   0   0   0   0   0   0   0   0   0   0   0   0   0   0   0\n",
      "    0   0   0   0   0   0   0   0   0   0]\n",
      " [  0   0   0   0   0   0   0   0   0   0   0   0   0   0   0   0   0   0\n",
      "    0   0   0   0   0   0   0   0   0   0]\n",
      " [  0   0   0   0   0   0   0   0   0   0   0   0   0   0   0   0   0   0\n",
      "    0   0   0   0   0   0   0   0   0   0]\n",
      " [  0   0   0   0   0   0   0   0   0   0   0   0   0   0   0   0   0   0\n",
      "    0   0   0   0   0   0   0   0   0   0]\n",
      " [  0   0   0   0   0   0   0   0   0  45 229 255 188   0   0   0   0   0\n",
      "    0   0   0   0   0   0   0   0   0   0]\n",
      " [  0   0   0   0   0   0   0   0   0 124 253 253 187   0   0   0   0   0\n",
      "    0   0   0   0   0   0   0   0   0   0]\n",
      " [  0   0   0   0   0   0   0   0   0 124 253 253 187   0   0   0   0  80\n",
      "  107  21   0   0   0   0   0   0   0   0]\n",
      " [  0   0   0   0   0   0   0   0   0 124 253 253 187   0   0   0  77 239\n",
      "  253  70   0   0   0   0   0   0   0   0]\n",
      " [  0   0   0   0   0   0   0   0   0 124 253 253 187   0   0   0  99 253\n",
      "  253 212   0   0   0   0   0   0   0   0]\n",
      " [  0   0   0   0   0   0   0   0   0 124 253 253 187   0   0   0  99 253\n",
      "  253 212   0   0   0   0   0   0   0   0]\n",
      " [  0   0   0   0   0   0   0   0  19 195 253 253 187   0   0   0  99 253\n",
      "  253 212   0   0   0   0   0   0   0   0]\n",
      " [  0   0   0   0   0   0   0   0  33 253 253 253 144   0   0   0  99 253\n",
      "  253 212   0   0   0   0   0   0   0   0]\n",
      " [  0   0   0   0   0   0   0   0  33 253 253 253  24   0   0   0  99 253\n",
      "  253 212   0   0   0   0   0   0   0   0]\n",
      " [  0   0   0   0   0   0   0   0  33 253 253 253  24   0   0   0  99 253\n",
      "  253 212   0   0   0   0   0   0   0   0]\n",
      " [  0   0   0   0   0   0   0   0  33 253 253 158   8   0   0   0  99 253\n",
      "  253 212   0   0   0   0   0   0   0   0]\n",
      " [  0   0   0   0   0   0   0   0  98 253 234  70   0   0   0   0  99 253\n",
      "  253 212   0   0   0   0   0   0   0   0]\n",
      " [  0   0   0   0   0   0   0   0 197 253 204   0   0   0   0   0  99 253\n",
      "  253 196   0   0   0   0   0   0   0   0]\n",
      " [  0   0   0   0   0   0   0   0 197 253 204   0   0   0   0   0  99 253\n",
      "  253 123   0   0   0   0   0   0   0   0]\n",
      " [  0   0   0   0   0   0   0   0  64 253 244 205 205 205 205 205 224 253\n",
      "  253 245 205  26   0   0   0   0   0   0]\n",
      " [  0   0   0   0   0   0   0   0 119 253 253 253 253 253 253 253 253 253\n",
      "  253 253 253  32   0   0   0   0   0   0]\n",
      " [  0   0   0   0   0   0   0   0 197 253 253 253 201 195 195  84  96 238\n",
      "  253  74  32   4   0   0   0   0   0   0]\n",
      " [  0   0   0   0   0   0   0   0 102 253 224 106  10   0   0   0  58 226\n",
      "  253  48   0   0   0   0   0   0   0   0]\n",
      " [  0   0   0   0   0   0   0   0   2  15  12   0   0   0   0   0   6 192\n",
      "  253  48   0   0   0   0   0   0   0   0]\n",
      " [  0   0   0   0   0   0   0   0   0   0   0   0   0   0   0   0   0 189\n",
      "  178  17   0   0   0   0   0   0   0   0]\n",
      " [  0   0   0   0   0   0   0   0   0   0   0   0   0   0   0   0   0   0\n",
      "    0   0   0   0   0   0   0   0   0   0]\n",
      " [  0   0   0   0   0   0   0   0   0   0   0   0   0   0   0   0   0   0\n",
      "    0   0   0   0   0   0   0   0   0   0]\n",
      " [  0   0   0   0   0   0   0   0   0   0   0   0   0   0   0   0   0   0\n",
      "    0   0   0   0   0   0   0   0   0   0]\n",
      " [  0   0   0   0   0   0   0   0   0   0   0   0   0   0   0   0   0   0\n",
      "    0   0   0   0   0   0   0   0   0   0]]\n"
     ]
    }
   ],
   "source": [
    "print(image_array)"
   ]
  },
  {
   "cell_type": "markdown",
   "metadata": {},
   "source": [
    "## API test"
   ]
  },
  {
   "cell_type": "code",
   "execution_count": 81,
   "metadata": {},
   "outputs": [],
   "source": [
    "\n",
    "with open(DATA_DIR /'images_jpg/test/0/13.jpg', 'rb') as p:\n",
    "    image = p.read()"
   ]
  },
  {
   "cell_type": "code",
   "execution_count": 82,
   "metadata": {},
   "outputs": [],
   "source": [
    "def get_img_bytes(ind):\n",
    "    test_dataset = MdsistDataset(PROCESSED_DATA_DIR / 'test.parquet')\n",
    "    image_dict = test_dataset.data.loc[ind, \"image\"]\n",
    "    image_array = test_dataset.decode_png_image(image_dict)\n",
    "    image = image_array.tobytes()\n",
    "    # Plot the image\n",
    "    plt.imshow(image_array, cmap='gray')\n",
    "    plt.axis('off')\n",
    "    plt.show()\n",
    "    return image"
   ]
  },
  {
   "cell_type": "code",
   "execution_count": 83,
   "metadata": {},
   "outputs": [
    {
     "data": {
      "image/png": "[encoded data removed]",
      "text/plain": [
       "<Figure size 640x480 with 1 Axes>"
      ]
     },
     "metadata": {},
     "output_type": "display_data"
    },
    {
     "data": {
      "text/plain": [
       "b'\\x00\\x00\\x00\\x00\\x00\\x00\\x00\\x00\\x00\\x00\\x00\\x00\\x00\\x00\\x00\\x00\\x00\\x00\\x00\\x00\\x00\\x00\\x00\\x00\\x00\\x00\\x00\\x00\\x00\\x00\\x00\\x00\\x00\\x00\\x00\\x00\\x00\\x00\\x00\\x00\\x00\\x00\\x00\\x00\\x00\\x00\\x00\\x00\\x00\\x00\\x00\\x00\\x00\\x00\\x00\\x00\\x00\\x00\\x00\\x00\\x00\\x00\\x00\\x00\\x00\\x00\\x00\\x00\\x00\\x00\\x00\\x00\\x00\\x00\\x00\\x00\\x00\\x00\\x00\\x00\\x00\\x00\\x00\\x00\\x00\\x00\\x00\\x00\\x00\\x00\\x00\\x00\\x00\\x00\\x00\\x00\\x00\\x00\\x00\\x00\\x00\\x00\\x00\\x00\\x00\\x00\\x00\\x00\\x00\\x00\\x00\\x00\\x00\\x00\\x00\\x00\\x00\\x00\\x00\\x00\\x00\\x00\\x00\\x00\\x00\\x00\\x00\\x00\\x00\\x00\\x00\\x00\\x00\\x00\\x00\\x00\\x00\\x00\\x00\\x00\\x00\\x00\\x00\\x00\\x00\\x00\\x00\\x00\\x00\\x00\\x00\\x00\\x00\\x00\\x00\\x00\\x00\\x00\\x00\\x00\\x00\\x00\\x00\\x00\\x00\\x00\\x00\\x00\\x00\\x00\\x00\\x00\\x00\\x00\\x00\\x00\\x00\\x00\\x00\\x00\\x00\\x00\\x00\\x00\\x00\\x00\\x00\\x00\\x00\\x00\\x00\\x00\\x00\\x00\\x00\\x00\\x00\\x00\\x00\\x00\\x00\\x00\\x00\\x12i\\xe3\\xfd\\xfd\\xfd\\xfe\\xda\\x8b+\\x07\\x00\\x00\\x00\\x00\\x00\\x00\\x00\\x00\\x00\\x00\\x00\\x00\\x00\\x00\\x00\\x00\\x00\\xb9\\xfd\\xfc\\xd2\\x8dk\\xa8\\xa8\\xd2\\xfc\\xc8\\x819\\x00\\x00\\x00\\x00\\x00\\x00\\x00\\x00\\x00\\x00\\x00\\x00\\x00\\x00)\\xe8\\xfau\\x0b\\x00\\x00\\x00\\x00\\x13\\x9d\\xfc\\xfd\\xa8\\x00\\x00\\x00\\x00\\x00\\x00\\x00\\x00\\x00\\x00\\x00\\x00\\x00\\x0f\\xe1\\xfc\\x8c\\x00\\x00\\x00\\x00\\x00\\x00\\x0f\\xbe\\xfc\\xfd\\xa8\\x00\\x00\\x00\\x00\\x00\\x00\\x00\\x00\\x00\\x00\\x00\\x00\\x00\\x16\\xfc\\xfcj\\x00\\x00\\x00\\x00\\x00$\\xce\\xfc\\xfc\\xfdP\\x00\\x00\\x00\\x00\\x00\\x00\\x00\\x00\\x00\\x00\\x00\\x00\\x00\\x16\\xfd\\xfd\\x12\\x00\\x00\\x00${\\xfd\\xceP\\xd4\\xff?\\x00\\x00\\x00\\x00\\x00\\x00\\x00\\x00\\x00\\x00\\x00\\x00\\x00\\x16\\xfc\\xfc\\x9b2^\\xbe\\xf2\\xef\\x84\\x05\\x00\\xd3\\xfd?\\x00\\x00\\x00\\x00\\x00\\x00\\x00\\x00\\x00\\x00\\x00\\x00\\x00\\x02v\\xf9\\xfd\\xf4\\xfc\\xf7\\xbb\\x11\\x00\\x00 \\xe8\\xd6\\x05\\x00\\x00\\x00\\x00\\x00\\x00\\x00\\x00\\x00\\x00\\x00\\x00\\x00\\x00\\x00F\\x91\\x99T?\\x00\\x00\\x00\\x00@\\xfc\\xd3\\x00\\x00\\x00\\x00\\x00\\x00\\x00\\x00\\x00\\x00\\x00\\x00\\x00\\x00\\x00\\x00\\x00\\x00\\x00\\x00\\x00\\x00\\x00\\x00\\x00@\\xfc\\xd3\\x00\\x00\\x00\\x00\\x00\\x00\\x00\\x00\\x00\\x00\\x00\\x00\\x00\\x00\\x00\\x00\\x00\\x00\\x00\\x00\\x00\\x00\\x00\\x00\\x04\\xb7\\xfd\\xc2\\x00\\x00\\x00\\x00\\x00\\x00\\x00\\x00\\x00\\x00\\x00\\x00\\x00\\x00\\x00\\x00\\x00\\x00\\x00\\x00\\x00\\x00\\x00\\x00\\x16\\xfc\\xfcj\\x00\\x00\\x00\\x00\\x00\\x00\\x00\\x00\\x00\\x00\\x00\\x00\\x00\\x00\\x00\\x00\\x00\\x00\\x00\\x00\\x00\\x00\\x00\\x00\\x14\\xf5\\xfcj\\x00\\x00\\x00\\x00\\x00\\x00\\x00\\x00\\x00\\x00\\x00\\x00\\x00\\x00\\x00\\x00\\x00\\x00\\x00\\x00\\x00\\x00\\x00\\x00\\x00\\xa9\\xfcj\\x00\\x00\\x00\\x00\\x00\\x00\\x00\\x00\\x00\\x00\\x00\\x00\\x00\\x00\\x00\\x00\\x00\\x00\\x00\\x00\\x00\\x00\\x00\\x00\\t\\xcc\\xfcj\\x00\\x00\\x00\\x00\\x00\\x00\\x00\\x00\\x00\\x00\\x00\\x00\\x00\\x00\\x00\\x00\\x00\\x00\\x00\\x00\\x00\\x00\\x00\\x00\\x16\\xfd\\xfdk\\x00\\x00\\x00\\x00\\x00\\x00\\x00\\x00\\x00\\x00\\x00\\x00\\x00\\x00\\x00\\x00\\x00\\x00\\x00\\x00\\x00\\x00\\x00\\x00\\x16\\xfc\\xfcj\\x00\\x00\\x00\\x00\\x00\\x00\\x00\\x00\\x00\\x00\\x00\\x00\\x00\\x00\\x00\\x00\\x00\\x00\\x00\\x00\\x00\\x00\\x00\\x00\\x16\\xfc\\xfc\\xcb\\x00\\x00\\x00\\x00\\x00\\x00\\x00\\x00\\x00\\x00\\x00\\x00\\x00\\x00\\x00\\x00\\x00\\x00\\x00\\x00\\x00\\x00\\x00\\x00\\x07\\xc4\\xfc\\xb9\\x00\\x00\\x00\\x00\\x00\\x00\\x00\\x00\\x00\\x00\\x00\\x00\\x00\\x00\\x00\\x00\\x00\\x00\\x00\\x00\\x00\\x00\\x00\\x00\\x007\\xeb>\\x00\\x00\\x00\\x00\\x00\\x00\\x00\\x00\\x00\\x00\\x00\\x00\\x00\\x00\\x00\\x00\\x00\\x00\\x00\\x00\\x00\\x00\\x00\\x00\\x00\\x00\\x00\\x00\\x00\\x00\\x00\\x00\\x00\\x00\\x00\\x00\\x00'"
      ]
     },
     "execution_count": 83,
     "metadata": {},
     "output_type": "execute_result"
    }
   ],
   "source": [
    "get_img_bytes(4)"
   ]
  },
  {
   "cell_type": "code",
   "execution_count": 84,
   "metadata": {},
   "outputs": [
    {
     "name": "stdout",
     "output_type": "stream",
     "text": [
      "It works\n"
     ]
    }
   ],
   "source": [
    "response = requests.get(\"http://localhost:8000/test\")\n",
    "print(json.loads(response.text))"
   ]
  },
  {
   "cell_type": "code",
   "execution_count": 85,
   "metadata": {},
   "outputs": [
    {
     "name": "stdout",
     "output_type": "stream",
     "text": [
      "{'Name': 'MDSIST-CNN', 'Short Description': 'This is a Convolutional Neural Network (CNN) model to classify grayscale images from the MNIST dataset.', 'Description': 'The primary intended use of this model is to classify images of handwritten digits from the MNIST datasetinto one of ten categories (0-9). It was specifically designed for image classification tasks withoutrequiring additional fine-tuning or integration into larger applications. This model is ideal for educational, research, and benchmarking purposes within the field of machine learning, particularly in the area of digit recognition.', 'Layers': {'CNN (CNN)': ['Conv2d (conv1): 1-1', 'Conv2d (conv2): 1-2', 'Linear (fc1): 1-3', 'Linear (fc2): 1-4', 'MaxPool2d (pool): 1-5']}, 'Total parameters': 206922, 'Trainable params': 206922, 'Total param bytes': 827688}\n"
     ]
    }
   ],
   "source": [
    "response = requests.get(\"http://localhost:8000/info\")\n",
    "print(json.loads(response.text))"
   ]
  },
  {
   "cell_type": "markdown",
   "metadata": {},
   "source": [
    "Now, it should work fine"
   ]
  },
  {
   "cell_type": "code",
   "execution_count": 86,
   "metadata": {},
   "outputs": [
    {
     "data": {
      "image/png": "[encoded data removed]",
      "text/plain": [
       "<Figure size 640x480 with 1 Axes>"
      ]
     },
     "metadata": {},
     "output_type": "display_data"
    },
    {
     "name": "stdout",
     "output_type": "stream",
     "text": [
      "{\"prediction\":[2]}\n"
     ]
    }
   ],
   "source": [
    "# Set the headers to indicate the content type as 'application/octet-stream'\n",
    "headers = {'Content-Type': 'application/octet-stream'}\n",
    "resp = requests.post(\"http://localhost:8000/mnist-model-prediction\", headers=headers,data=get_img_bytes(4))\n",
    "print(resp.text)"
   ]
  },
  {
   "cell_type": "code",
   "execution_count": 87,
   "metadata": {},
   "outputs": [
    {
     "data": {
      "image/png": "[encoded data removed]",
      "text/plain": [
       "<Figure size 640x480 with 1 Axes>"
      ]
     },
     "metadata": {},
     "output_type": "display_data"
    },
    {
     "data": {
      "image/png": "[encoded data removed]",
      "text/plain": [
       "<Figure size 640x480 with 1 Axes>"
      ]
     },
     "metadata": {},
     "output_type": "display_data"
    },
    {
     "data": {
      "image/png": "[encoded data removed]",
      "text/plain": [
       "<Figure size 640x480 with 1 Axes>"
      ]
     },
     "metadata": {},
     "output_type": "display_data"
    },
    {
     "name": "stdout",
     "output_type": "stream",
     "text": [
      "{\"prediction\":[2,8,4]}\n"
     ]
    }
   ],
   "source": [
    "headers = {'Content-Type': 'application/octet-stream'}\n",
    "resp = requests.post(\"http://localhost:8000/mnist-model-prediction\", headers=headers,data=get_img_bytes(4)+get_img_bytes(85)+get_img_bytes(66))\n",
    "print(resp.text)"
   ]
  },
  {
   "cell_type": "markdown",
   "metadata": {},
   "source": [
    "### Summary testing"
   ]
  },
  {
   "cell_type": "code",
   "execution_count": 88,
   "metadata": {},
   "outputs": [],
   "source": [
    "a:torchinfo.ModelStatistics = torchinfo.summary(model)\n"
   ]
  },
  {
   "cell_type": "markdown",
   "metadata": {},
   "source": [
    "more testing"
   ]
  },
  {
   "cell_type": "code",
   "execution_count": 89,
   "metadata": {},
   "outputs": [
    {
     "data": {
      "text/plain": [
       "'Linear (fc1): 1-3'"
      ]
     },
     "execution_count": 89,
     "metadata": {},
     "output_type": "execute_result"
    }
   ],
   "source": [
    "a.total_param_bytes\n",
    "t:list[LayerInfo] = a.summary_list\n",
    "li:LayerInfo = t[3]\n",
    "li.get_layer_name(True,True)"
   ]
  }
 ],
 "metadata": {
  "kernelspec": {
   "display_name": "mdsist-j1bbbV5p-py3.9",
   "language": "python",
   "name": "python3"
  },
  "language_info": {
   "codemirror_mode": {
    "name": "ipython",
    "version": 3
   },
   "file_extension": ".py",
   "mimetype": "text/x-python",
   "name": "python",
   "nbconvert_exporter": "python",
   "pygments_lexer": "ipython3",
   "version": "3.9.7"
  }
 },
 "nbformat": 4,
 "nbformat_minor": 2
}
