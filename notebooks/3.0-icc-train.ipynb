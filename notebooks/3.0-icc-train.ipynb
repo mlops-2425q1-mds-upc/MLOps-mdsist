{
 "cells": [
  {
   "cell_type": "code",
   "execution_count": null,
   "metadata": {},
   "outputs": [],
   "source": [
    "from dotenv import load_dotenv\n",
    "# Load envionment variables\n",
    "load_dotenv()"
   ]
  },
  {
   "cell_type": "code",
   "execution_count": null,
   "metadata": {},
   "outputs": [],
   "source": [
    "# Load packages\n",
    "import os\n",
    "\n",
    "from codecarbon import EmissionsTracker\n",
    "import mlflow\n",
    "import mlflow.pytorch\n",
    "import torch\n",
    "from torch.utils.data import DataLoader\n",
    "import torchvision.transforms as transforms\n",
    "import torch.optim as optim\n",
    "from ptflops import get_model_complexity_info\n",
    "\n",
    "from mdsist.architectures import CNN\n",
    "from mdsist.dataset import MdsistDataset\n",
    "from mdsist.config import PROCESSED_DATA_DIR, RAW_DATA_DIR, MODELS_DIR\n",
    "from mdsist.trainer import Trainer\n",
    "\n",
    "import random\n",
    "import numpy as np"
   ]
  },
  {
   "cell_type": "code",
   "execution_count": 3,
   "metadata": {},
   "outputs": [],
   "source": [
    "def seed_all(value: int) -> None:\n",
    "    np.random.seed(value)\n",
    "    torch.manual_seed(value)\n",
    "    torch.cuda.manual_seed(value)  # Set seed for CUDA\n",
    "    torch.cuda.manual_seed_all(value)  # Use this to ensure that all GPUs get the same seed\n",
    "    random.seed(value)\n",
    "\n",
    "    torch.backends.cudnn.deterministic = True  # Ensure deterministic behavior for cudnn\n",
    "    torch.backends.cudnn.benchmark = False  # Disable cudnn's benchmark mode for reproducibility"
   ]
  },
  {
   "cell_type": "code",
   "execution_count": 4,
   "metadata": {},
   "outputs": [],
   "source": [
    "# Set hyperparameters\n",
    "EPOCHS = 5\n",
    "BATCH_SIZE = 64\n",
    "LEARNING_RATE = 0.0001\n",
    "SEED = 42"
   ]
  },
  {
   "cell_type": "code",
   "execution_count": 5,
   "metadata": {},
   "outputs": [],
   "source": [
    "# Seed for reproducibility\n",
    "seed_all(42)"
   ]
  },
  {
   "cell_type": "code",
   "execution_count": 6,
   "metadata": {},
   "outputs": [],
   "source": [
    "# Define transformations\n",
    "transform = transforms.Compose([\n",
    "    transforms.ToTensor(),\n",
    "    transforms.Normalize((0.5,), (0.5,))\n",
    "])\n",
    "\n",
    "# Load datasets\n",
    "train_dataset = MdsistDataset(PROCESSED_DATA_DIR / 'train.parquet', transform=transform)\n",
    "val_dataset = MdsistDataset(PROCESSED_DATA_DIR / 'validation.parquet', transform=transform)\n",
    "\n",
    "# Create DataLoaders\n",
    "train_loader = DataLoader(train_dataset, batch_size=BATCH_SIZE, shuffle=True)\n",
    "val_loader = DataLoader(val_dataset, batch_size=BATCH_SIZE, shuffle=False)"
   ]
  },
  {
   "cell_type": "code",
   "execution_count": null,
   "metadata": {},
   "outputs": [],
   "source": [
    "# Init model\n",
    "model = CNN()\n",
    "device = torch.device('cuda' if torch.cuda.is_available() else 'cpu')\n",
    "model.to(device)\n",
    "model.eval()\n",
    "\n",
    "flops, params = get_model_complexity_info(model, (1, 28, 28), as_strings=True, print_per_layer_stat=False, verbose=False)\n",
    "\n",
    "print(f'FLOPS: {flops}')\n",
    "print(f'Parameters: {params}')"
   ]
  },
  {
   "cell_type": "code",
   "execution_count": 8,
   "metadata": {},
   "outputs": [],
   "source": [
    "# Optimizer\n",
    "optimizer = optim.Adam(model.parameters(), lr=0.001)"
   ]
  },
  {
   "cell_type": "code",
   "execution_count": null,
   "metadata": {},
   "outputs": [],
   "source": [
    "# Experiment ID\n",
    "EXPERIMENT_ID = 'CNN_v2'\n",
    "# Track emissions\n",
    "# emissions_tracker = EmissionsTracker()\n",
    "emissions_tracker = EmissionsTracker(project_name='MDSIST', experiment_id=EXPERIMENT_ID)"
   ]
  },
  {
   "cell_type": "code",
   "execution_count": null,
   "metadata": {},
   "outputs": [],
   "source": [
    "emissions_tracker.start()\n",
    "\n",
    "mlflow.set_tracking_uri(os.getenv('MLFLOW_TRACKING_URI'))\n",
    "mlflow.set_experiment(EXPERIMENT_ID)\n",
    "\n",
    "with mlflow.start_run():\n",
    "    mlflow.set_tag('mlflow.runName', 'Train')\n",
    "\n",
    "    # Log hyperparameters\n",
    "    mlflow.log_param('epochs', EPOCHS)\n",
    "    mlflow.log_param('batch_size', BATCH_SIZE)\n",
    "    mlflow.log_param('learning_rate', LEARNING_RATE)\n",
    "    mlflow.log_param('seed', SEED)\n",
    "    \n",
    "    # Train\n",
    "    trainer = Trainer(model, optimizer, device)\n",
    "    trainer.train(train_loader, val_loader, 5)\n",
    "\n",
    "    # Log the model itself to MLflow\n",
    "    mlflow.pytorch.log_model(trainer.model, \"model\")\n",
    "\n",
    "    emissions = emissions_tracker.stop()\n",
    "\n",
    "    mlflow.log_metric('emissions_kg_co2', emissions)"
   ]
  },
  {
   "cell_type": "code",
   "execution_count": 11,
   "metadata": {},
   "outputs": [],
   "source": [
    "torch.save(trainer.model, MODELS_DIR / 'model.pt')"
   ]
  }
 ],
 "metadata": {
  "kernelspec": {
   "display_name": "mdsist-5KN7WfaK-py3.11",
   "language": "python",
   "name": "python3"
  },
  "language_info": {
   "codemirror_mode": {
    "name": "ipython",
    "version": 3
   },
   "file_extension": ".py",
   "mimetype": "text/x-python",
   "name": "python",
   "nbconvert_exporter": "python",
   "pygments_lexer": "ipython3",
   "version": "3.11.10"
  }
 },
 "nbformat": 4,
 "nbformat_minor": 2
}
