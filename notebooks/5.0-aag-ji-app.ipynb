{
 "cells": [
  {
   "cell_type": "markdown",
   "metadata": {},
   "source": [
    "# API"
   ]
  },
  {
   "cell_type": "markdown",
   "metadata": {},
   "source": [
    "Raw code snippets for api part"
   ]
  },
  {
   "cell_type": "code",
   "execution_count": 17,
   "metadata": {},
   "outputs": [
    {
     "data": {
      "text/plain": [
       "True"
      ]
     },
     "execution_count": 17,
     "metadata": {},
     "output_type": "execute_result"
    }
   ],
   "source": [
    "import numpy as np\n",
    "import mlflow\n",
    "import mdsist.util as util\n",
    "\n",
    "from fastapi import FastAPI\n",
    "from pydantic import BaseModel\n",
    "import matplotlib.pyplot as plt\n",
    "\n",
    "# Load packages\n",
    "from torchinfo.layer_info import LayerInfo\n",
    "import torchinfo\n",
    "from torchvision import transforms\n",
    "import pickle\n",
    "\n",
    "\n",
    "from mdsist.dataset import MdsistDataset\n",
    "from mdsist.config import DATA_DIR, PROCESSED_DATA_DIR\n",
    "from mdsist.predictor import Predictor\n",
    "\n",
    "import mlflow\n",
    "import mlflow.pytorch\n",
    "\n",
    "import mdsist.util as util\n",
    "import json\n",
    "import requests\n",
    "\n",
    "from dotenv import load_dotenv\n",
    "\n",
    "# Load envionment variables\n",
    "load_dotenv()"
   ]
  },
  {
   "cell_type": "markdown",
   "metadata": {},
   "source": [
    "## Implementation"
   ]
  },
  {
   "cell_type": "code",
   "execution_count": 18,
   "metadata": {},
   "outputs": [
    {
     "data": {
      "application/vnd.jupyter.widget-view+json": {
       "model_id": "833dd6e1b7724949b440f21999991367",
       "version_major": 2,
       "version_minor": 0
      },
      "text/plain": [
       "Downloading artifacts:   0%|          | 0/6 [00:00<?, ?it/s]"
      ]
     },
     "metadata": {},
     "output_type": "display_data"
    }
   ],
   "source": [
    "## Import model from MLFlow, with below URI\n",
    "MODEL_URI = 'runs:/10cb51b288134c48835a8c0b9fe66eca/model_20240930190709'\n",
    "#'models:/CNNv1-production/'\n",
    "\n",
    "device = util.get_available_device()\n",
    "\n",
    "model = mlflow.pytorch.load_model(MODEL_URI, map_location=device)\n",
    "\n",
    "pred = Predictor(model)"
   ]
  },
  {
   "cell_type": "code",
   "execution_count": 19,
   "metadata": {},
   "outputs": [],
   "source": [
    "app = FastAPI()"
   ]
  },
  {
   "cell_type": "code",
   "execution_count": 20,
   "metadata": {},
   "outputs": [],
   "source": [
    "class PredictionRequest(BaseModel):\n",
    "    image: list # The input data should be an array list of 256 pixel\n",
    "\n",
    "\n",
    "@app.get(\"/test\")\n",
    "async def test():\n",
    "    return \"It works\"\n",
    "\n",
    "@app.post(\"/mnist-model-prediction/\")\n",
    "async def predict(data: PredictionRequest):\n",
    "    # pass the image as byte, then from buffer.\n",
    "    \n",
    "    image_array = np.frombuffer(dtype= np.uint8) # this method interprets a buffer as a 1D array. \n",
    "\n",
    "    # reshape uint8 to below structure\n",
    "    # shape (N, 1, H, W) # N = degree of freedom, -1.  H = 28, W = 28\n",
    "\n",
    "    images = image_array.reshape((-1, 1, 28, 28))\n",
    "    \n",
    "    prediction = pred.predict(images)\n",
    "\n",
    "    print(prediction)\n",
    "    #return{\"prediction\": int(prediction[0])}\n"
   ]
  },
  {
   "cell_type": "markdown",
   "metadata": {},
   "source": [
    "### Predictor test"
   ]
  },
  {
   "cell_type": "code",
   "execution_count": 21,
   "metadata": {},
   "outputs": [
    {
     "data": {
      "application/vnd.jupyter.widget-view+json": {
       "model_id": "b1b13b9045204cd4983a0d9a7c0424f9",
       "version_major": 2,
       "version_minor": 0
      },
      "text/plain": [
       "Downloading artifacts:   0%|          | 0/6 [00:00<?, ?it/s]"
      ]
     },
     "metadata": {},
     "output_type": "display_data"
    }
   ],
   "source": [
    "## Import model from MLFlow, with below URI\n",
    "MODEL_URI = \"runs:/10cb51b288134c48835a8c0b9fe66eca/model_20240930190709\"\n",
    "#'models:/CNNv1-production/'\n",
    "\n",
    "device = util.get_available_device()\n",
    "\n",
    "model = mlflow.pytorch.load_model(MODEL_URI, map_location=device)\n",
    "\n",
    "pred = Predictor(model)"
   ]
  },
  {
   "cell_type": "code",
   "execution_count": 22,
   "metadata": {},
   "outputs": [],
   "source": [
    "test_dataset = MdsistDataset(PROCESSED_DATA_DIR / 'test.parquet')\n",
    "image_dict = test_dataset.data.loc[0, \"image\"]\n",
    "image_array = test_dataset.decode_png_image(image_dict)\n",
    "image = image_array.tobytes()"
   ]
  },
  {
   "cell_type": "code",
   "execution_count": 23,
   "metadata": {},
   "outputs": [
    {
     "name": "stdout",
     "output_type": "stream",
     "text": [
      "[[  0   0   0   0   0   0   0   0   0   0   0   0   0   0   0   0   0   0\n",
      "    0   0   0   0   0   0   0   0   0   0]\n",
      " [  0   0   0   0   0   0   0   0   0   0   0   0   0   0   0   0   0   0\n",
      "    0   0   0   0   0   0   0   0   0   0]\n",
      " [  0   0   0   0   0   0   0   0   0   0   0   0   0   0   0   0   0   0\n",
      "    0   0   0   0   0   0   0   0   0   0]\n",
      " [  0   0   0   0   0   0   0   0   0   0   0   0   0   0   0   0   0   0\n",
      "    0   0   0   0   0   0   0   0   0   0]\n",
      " [  0   0   0   0   0   0   0   0   0  45 229 255 188   0   0   0   0   0\n",
      "    0   0   0   0   0   0   0   0   0   0]\n",
      " [  0   0   0   0   0   0   0   0   0 124 253 253 187   0   0   0   0   0\n",
      "    0   0   0   0   0   0   0   0   0   0]\n",
      " [  0   0   0   0   0   0   0   0   0 124 253 253 187   0   0   0   0  80\n",
      "  107  21   0   0   0   0   0   0   0   0]\n",
      " [  0   0   0   0   0   0   0   0   0 124 253 253 187   0   0   0  77 239\n",
      "  253  70   0   0   0   0   0   0   0   0]\n",
      " [  0   0   0   0   0   0   0   0   0 124 253 253 187   0   0   0  99 253\n",
      "  253 212   0   0   0   0   0   0   0   0]\n",
      " [  0   0   0   0   0   0   0   0   0 124 253 253 187   0   0   0  99 253\n",
      "  253 212   0   0   0   0   0   0   0   0]\n",
      " [  0   0   0   0   0   0   0   0  19 195 253 253 187   0   0   0  99 253\n",
      "  253 212   0   0   0   0   0   0   0   0]\n",
      " [  0   0   0   0   0   0   0   0  33 253 253 253 144   0   0   0  99 253\n",
      "  253 212   0   0   0   0   0   0   0   0]\n",
      " [  0   0   0   0   0   0   0   0  33 253 253 253  24   0   0   0  99 253\n",
      "  253 212   0   0   0   0   0   0   0   0]\n",
      " [  0   0   0   0   0   0   0   0  33 253 253 253  24   0   0   0  99 253\n",
      "  253 212   0   0   0   0   0   0   0   0]\n",
      " [  0   0   0   0   0   0   0   0  33 253 253 158   8   0   0   0  99 253\n",
      "  253 212   0   0   0   0   0   0   0   0]\n",
      " [  0   0   0   0   0   0   0   0  98 253 234  70   0   0   0   0  99 253\n",
      "  253 212   0   0   0   0   0   0   0   0]\n",
      " [  0   0   0   0   0   0   0   0 197 253 204   0   0   0   0   0  99 253\n",
      "  253 196   0   0   0   0   0   0   0   0]\n",
      " [  0   0   0   0   0   0   0   0 197 253 204   0   0   0   0   0  99 253\n",
      "  253 123   0   0   0   0   0   0   0   0]\n",
      " [  0   0   0   0   0   0   0   0  64 253 244 205 205 205 205 205 224 253\n",
      "  253 245 205  26   0   0   0   0   0   0]\n",
      " [  0   0   0   0   0   0   0   0 119 253 253 253 253 253 253 253 253 253\n",
      "  253 253 253  32   0   0   0   0   0   0]\n",
      " [  0   0   0   0   0   0   0   0 197 253 253 253 201 195 195  84  96 238\n",
      "  253  74  32   4   0   0   0   0   0   0]\n",
      " [  0   0   0   0   0   0   0   0 102 253 224 106  10   0   0   0  58 226\n",
      "  253  48   0   0   0   0   0   0   0   0]\n",
      " [  0   0   0   0   0   0   0   0   2  15  12   0   0   0   0   0   6 192\n",
      "  253  48   0   0   0   0   0   0   0   0]\n",
      " [  0   0   0   0   0   0   0   0   0   0   0   0   0   0   0   0   0 189\n",
      "  178  17   0   0   0   0   0   0   0   0]\n",
      " [  0   0   0   0   0   0   0   0   0   0   0   0   0   0   0   0   0   0\n",
      "    0   0   0   0   0   0   0   0   0   0]\n",
      " [  0   0   0   0   0   0   0   0   0   0   0   0   0   0   0   0   0   0\n",
      "    0   0   0   0   0   0   0   0   0   0]\n",
      " [  0   0   0   0   0   0   0   0   0   0   0   0   0   0   0   0   0   0\n",
      "    0   0   0   0   0   0   0   0   0   0]\n",
      " [  0   0   0   0   0   0   0   0   0   0   0   0   0   0   0   0   0   0\n",
      "    0   0   0   0   0   0   0   0   0   0]]\n"
     ]
    }
   ],
   "source": [
    "print(image_array)"
   ]
  },
  {
   "cell_type": "markdown",
   "metadata": {},
   "source": [
    "## API test"
   ]
  },
  {
   "cell_type": "code",
   "execution_count": 24,
   "metadata": {},
   "outputs": [],
   "source": [
    "\n",
    "with open(DATA_DIR /'images_jpg/test/0/13.jpg', 'rb') as p:\n",
    "    image = p.read()"
   ]
  },
  {
   "cell_type": "code",
   "execution_count": 25,
   "metadata": {},
   "outputs": [],
   "source": [
    "def get_img_bytes(inds):\n",
    "    transform = transforms.Compose([transforms.ToTensor(), transforms.Normalize((0.5,), (0.5,))])\n",
    "    test_dataset = MdsistDataset(PROCESSED_DATA_DIR / 'test.parquet',transform=transform)\n",
    "    images= []\n",
    "\n",
    "    for ind in inds:\n",
    "        image_dict = test_dataset.data.loc[ind, \"image\"]\n",
    "        image_array = np.array([test_dataset.decode_png_image(image_dict)])\n",
    "        #print(image_array)\n",
    "        plt.imshow(image_array[0], cmap='gray')\n",
    "        plt.axis('off')\n",
    "        plt.show()\n",
    "        images.append(image_array)\n",
    "\n",
    "    #print(np.array(images).shape)\n",
    "    return np.array(images).dumps()"
   ]
  },
  {
   "cell_type": "code",
   "execution_count": 26,
   "metadata": {},
   "outputs": [
    {
     "data": {
      "image/png": "[encoded data removed]",
      "text/plain": [
       "<Figure size 640x480 with 1 Axes>"
      ]
     },
     "metadata": {},
     "output_type": "display_data"
    },
    {
     "data": {
      "image/png": "[encoded data removed]",
      "text/plain": [
       "<Figure size 640x480 with 1 Axes>"
      ]
     },
     "metadata": {},
     "output_type": "display_data"
    },
    {
     "data": {
      "text/plain": [
       "b'\\x80\\x02cnumpy.core.multiarray\\n_reconstruct\\nq\\x00cnumpy\\nndarray\\nq\\x01K\\x00\\x85q\\x02c_codecs\\nencode\\nq\\x03X\\x01\\x00\\x00\\x00bq\\x04X\\x06\\x00\\x00\\x00latin1q\\x05\\x86q\\x06Rq\\x07\\x87q\\x08Rq\\t(K\\x01(K\\x02K\\x01K\\x1cK\\x1ctq\\ncnumpy\\ndtype\\nq\\x0bX\\x02\\x00\\x00\\x00u1q\\x0c\\x89\\x88\\x87q\\rRq\\x0e(K\\x03X\\x01\\x00\\x00\\x00|q\\x0fNNNJ\\xff\\xff\\xff\\xffJ\\xff\\xff\\xff\\xffK\\x00tq\\x10b\\x89h\\x03X\\xdb\\x06\\x00\\x00\\x00\\x00\\x00\\x00\\x00\\x00\\x00\\x00\\x00\\x00\\x00\\x00\\x00\\x00\\x00\\x00\\x00\\x00\\x00\\x00\\x00\\x00\\x00\\x00\\x00\\x00\\x00\\x00\\x00\\x00\\x00\\x00\\x00\\x00\\x00\\x00\\x00\\x00\\x00\\x00\\x00\\x00\\x00\\x00\\x00\\x00\\x00\\x00\\x00\\x00\\x00\\x00\\x00\\x00\\x00\\x00\\x00\\x00\\x00\\x00\\x00\\x00\\x00\\x00\\x00\\x00\\x00\\x00\\x00\\x00\\x00\\x00\\x00\\x00\\x00\\x00\\x00\\x00\\x00\\x00\\x00\\x00\\x00\\x00\\x00\\x00\\x00\\x00\\x00\\x00\\x00\\x00\\x00\\x00\\x00\\x00\\x00\\x00\\x00\\x00\\x00\\x00\\x00\\x00\\x00\\x00\\x00\\x00\\x00\\x00\\x00\\x00\\x00\\x00\\x00\\x00\\x00\\x00\\x00\\x00\\x00\\x00\\x00\\x00\\x00\\x00\\x00\\x00\\x00\\x00\\x00\\x00\\x00\\x00\\x00\\x00\\x00\\x00\\x00\\x00\\x00\\x00\\x00\\x00\\x00\\x00\\x00\\x00\\x00\\x00\\x00\\x00\\x00\\x00\\x7fM\\x00\\x00\\x00\\x00\\x00~\\xc3\\xbf4\\x00\\x00\\x00\\x00\\x00\\x00\\x00\\x00\\x00\\x00\\x00\\x00\\x00\\x00\\x00\\x00\\x00\\x00l\\xc2\\xa6\\x00\\x00\\x00\\x00\"\\xc3\\xb6\\xc3\\xbe4\\x00\\x00\\x00\\x00\\x00\\x00\\x00\\x00\\x00\\x00\\x00\\x00\\x00\\x00\\x00\\x00\\x00\\x1f\\xc3\\x9c\\xc2\\xa8\\x00\\x00\\x00\\x00\\xc2\\xb4\\xc3\\xbe\\xc3\\xa4+\\x00\\x00\\x00\\x00\\x00\\x00\\x00\\x00\\x00\\x00\\x00\\x00\\x00\\x00\\x00\\x00\\x0c\\xc3\\x9d\\xc3\\xab\\x1f\\x00\\x00\\x007\\xc3\\xb8\\xc3\\xbe\\xc2\\x81\\x01\\x00\\x00\\x00\\x00\\x00\\x00\\x00\\x00\\x00\\x00\\x00\\x00\\x00\\x00\\x00\\x06\\xc2\\xbb\\xc3\\xbe\\xc3\\x9e\\x19\\x00\\x00\\x01t\\xc3\\xba\\xc3\\xb20\\x00\\x00\\x00\\x00\\x00\\x00\\x00\\x00\\x00\\x00\\x00\\x00\\x00\\x00\\x00\\x00{\\xc3\\xbe\\xc3\\xbeJ\\x00\\x00\\x00\\n\\xc3\\xbe\\xc3\\xbe\\xc2\\x98\\x00\\x00\\x00\\x00\\x00\\x00\\x00\\x00\\x00\\x00\\x00\\x00\\x00\\x00\\x00\\x00\\xc2\\x8c\\xc3\\xba\\xc3\\xba\\xc2\\x8b\\x04\\x00\\x00\\x1e\\xc2\\xa9\\xc3\\xbe\\xc3\\x84\\x06\\x00\\x00\\x00\\x00\\x00\\x00\\x00\\x00\\x00\\x00\\x00\\x00\\x00\\x00\"\\xc3\\x85\\xc3\\xb2\\xc3\\xbe\\xc3\\xb2\\x1d\\x04\\x14\\xc2\\x96\\xc3\\xaa\\xc3\\xbe\\xc3\\xb8&\\x00\\x00\\x00\\x00\\x00\\x00\\x00\\x00\\x00\\x00\\x00\\x00\\x00\\x00\\x00\\xc2\\x99\\xc3\\xbe\\xc3\\xbe\\xc3\\x8eW\\x00\\xc2\\xb6\\xc3\\xbe\\xc3\\xbe\\xc3\\xbe\\xc3\\xbe\\xc3\\x8d\\'\\x00\\x00\\x00\\x00\\x00\\x00\\x00\\x00\\x00\\x00\\x00\\x00\\x00\\x00G\\xc3\\xb7\\xc3\\xbe\\xc3\\xbe=\\\\\\xc3\\x93\\xc3\\xbd\\xc3\\xbe\\xc3\\xbe\\xc3\\xbe\\xc3\\xbe\\xc2\\xb9\\x07\\x00\\x00\\x00\\x00\\x00\\x00\\x00\\x00\\x00\\x00\\x00\\x00\\x00\\r\\xc3\\x98\\xc3\\xbe\\xc3\\xbe\\xc3\\xbe\\xc3\\xbe\\xc3\\xbe\\xc3\\xbe\\xc2\\x95\\xc3\\xa4\\xc3\\xbe\\xc3\\xbe\\xc3\\x8fC\\x00\\x00\\x00\\x00\\x00\\x00\\x00\\x00\\x00\\x00\\x00\\x00\\x00\\x00_\\xc3\\xbe\\xc3\\xbe\\xc3\\xbe\\xc3\\xbe\\xc3\\xad\\xc2\\xa9Q\\x13\\xc2\\xbe\\xc3\\xbe\\xc3\\x830\\x00\\x00\\x00\\x00\\x00\\x00\\x00\\x00\\x00\\x00\\x00\\x00\\x00\\x00\\x00D\\xc3\\xa2\\xc2\\x99s.\\x0f\\x00\\x00e\\xc3\\xbe\\xc3\\xbeO\\x00\\x00\\x00\\x00\\x00\\x00\\x00\\x00\\x00\\x00\\x00\\x00\\x00\\x00\\x00\\x00\\x00\\x13\\x01\\x00\\x00\\x00\\x00#\\xc3\\xa2\\xc3\\xbex\\x18\\x00\\x00\\x00\\x00\\x00\\x00\\x00\\x00\\x00\\x00\\x00\\x00\\x00\\x00\\x00\\x00\\x00\\x00\\x00\\x00\\x00\\x00\\x08\\xc2\\xae\\xc3\\xbe\\xc3\\xb4<\\x00\\x00\\x00\\x00\\x00\\x00\\x00\\x00\\x00\\x00\\x00\\x00\\x00\\x00\\x00\\x00\\x00\\x00\\x00\\x00\\x00\\x00\\x006\\xc3\\xb7\\xc3\\xbeP\\x00\\x00\\x00\\x00\\x00\\x00\\x00\\x00\\x00\\x00\\x00\\x00\\x00\\x00\\x00\\x00\\x00\\x00\\x00\\x00\\x00\\x00\\x00\\x02\\xc2\\xa9\\xc3\\xbe\\xc3\\xbdi\\x00\\x00\\x00\\x00\\x00\\x00\\x00\\x00\\x00\\x00\\x00\\x00\\x00\\x00\\x00\\x00\\x00\\x00\\x00\\x00\\x00\\x00\\x005\\xc3\\xbe\\xc3\\xbe\\xc2\\x8f\\x00\\x00\\x00\\x00\\x00\\x00\\x00\\x00\\x00\\x00\\x00\\x00\\x00\\x00\\x00\\x00\\x00\\x00\\x00\\x00\\x00\\x00\\x00\\x00\\xc2\\xbb\\xc3\\xbe\\xc3\\x87\\x12\\x00\\x00\\x00\\x00\\x00\\x00\\x00\\x00\\x00\\x00\\x00\\x00\\x00\\x00\\x00\\x00\\x00\\x00\\x00\\x00\\x00\\x00\\x00\\x00\\xc2\\xac\\xc3\\xbeM\\x00\\x00\\x00\\x00\\x00\\x00\\x00\\x00\\x00\\x00\\x00\\x00\\x00\\x00\\x00\\x00\\x00\\x00\\x00\\x00\\x00\\x00\\x00\\x00\\x00\\x00\\x00\\x00\\x00\\x00\\x00\\x00\\x00\\x00\\x00\\x00\\x00\\x00\\x00\\x00\\x00\\x00\\x00\\x00\\x00\\x00\\x00\\x00\\x00\\x00\\x00\\x00\\x00\\x00\\x00\\x00\\x00\\x00\\x00\\x00\\x00\\x00\\x00\\x00\\x00\\x00\\x00\\x00\\x00\\x00\\x00\\x00\\x00\\x00\\x00\\x00\\x00\\x00\\x00\\x00\\x00\\x00\\x00\\x00\\x00\\x00\\x00\\x00\\x00\\x00\\x00\\x00\\x00\\x00\\x00\\x00\\x00\\x00\\x00\\x00\\x00\\x00\\x00\\x00\\x00\\x00\\x00\\x00\\x00\\x00\\x00\\x00\\x00\\x00\\x00\\x00\\x00\\x00\\x00\\x00\\x00\\x00\\x00\\x00\\x00\\x00\\x00\\x00\\x00\\x00\\x00\\x00\\x00\\x00\\x00\\x00\\x00\\x00\\x00\\x00\\x00\\x00\\x00\\x00\\x00\\x00\\x00\\x00\\x00\\x00\\x00\\x00\\x00\\x00\\x00\\x00\\x00\\x00\\x00\\x00\\x00\\x00\\x00\\x00\\x00\\x00\\x00\\x00\\x00\\x00\\x00\\x00\\x00\\x00\\x00\\x00\\x00\\x00\\x00\\x00\\x00\\x00\\x00\\x00\\x00\\x00\\x00\\x00\\x00\\x00\\x00\\x00\\x00\\x00\\x00\\'\\xc3\\xa4\\xc3\\xbe\\xc3\\xbe\\xc2\\x87\\x00\\x00\\x00\\x00\\x00\\x00\\x00\\x00\\x00\\x00\\x00\\x00\\x00\\x00\\x00\\x00\\x00\\x00\\x00\\x00\\x00\\x00\\x00\\xc2\\x8b\\xc3\\xbd\\xc2\\xa2\\xc2\\x87l\\x00\\x00\\x00\\x00\\x00\\x00\\x00\\x00\\x00\\x00\\x00\\x00\\x00\\x00\\x00\\x00\\x00\\x00\\x00\\x00\\x00\\x00\\xc2\\x8a\\xc3\\xbb\\xc3\\xbd:\\x00\\x00\\x00\\x00\\x00\\x00\\x00\\x00\\x00\\x00\\x00\\x00\\x00\\x00\\x00\\x00\\x00\\x00\\x00\\x00\\x00\\x00\\x00&\\xc3\\xa7\\xc3\\xbd\\xc2\\x85\\x05\\x00\\x00\\x00\\x00\\x00\\x00\\x00\\x00\\x00\\x00\\x00\\x00\\x00\\x00\\x00\\x00\\x00\\x00\\x00\\x00\\x00\\x00\\x00\\xc3\\x91\\xc3\\xbd\\xc2\\xb6\\x05\\x00\\x00\\x00\\x00\\x00\\x00\\x00\\x00\\x00\\x00\\x00\\x00\\x00\\x00\\x00\\x00\\x00\\x00\\x00\\x00\\x00\\x00\\x00V\\xc3\\xb9\\xc3\\xbd\\xc2\\x80\\x00\\x00\\x00\\x00\\x00\\x00\\x00\\x00\\x00\\x00\\x00\\x00\\x00\\x00\\x00\\x00\\x00\\x00\\x00\\x00\\x00\\x00\\x00\\x00c\\xc3\\xbd\\xc3\\xa1\\x1e\\x00\\x00\\x00\\x00\\x00\\x00\\x00\\x00\\x00\\x00\\x00\\x00\\x00\\x00\\x00\\x00\\x00\\x00\\x00\\x00\\x00\\x00\\x00\\x00\\xc2\\x8a\\xc3\\xbd\\xc2\\x80\\x00\\x00\\x00\\x00\\x00\\x00\\x00\\x00\\x00\\x00\\x00\\x00\\x00\\x00\\x00\\x00\\x00\\x00\\x00\\x00\\x00\\x00\\x00\\x00\\x00\\xc3\\xa4\\xc3\\xbd&\\x00\\x00\\x00\\x00\\x00\\x00\\x00\\x00\\x00\\x00\\x00\\x00\\x00\\x00\\x00\\x00\\x00\\x00\\x00\\x00\\x00\\x00\\x00\\x00\\x1b\\xc3\\xab\\xc3\\xbd&\\x00\\x00\\x00\\x00\\x00\\x00\\x00\\x00\\x00\\x00\\x00\\x00\\x00\\x00\\x00\\x00\\x00\\x00\\x00\\x00\\x00\\x00\\x00\\x00i\\xc3\\xbd\\xc3\\xbd&\\x00\\x00\\x00\\x00\\x00\\x00\\x00\\x00\\x00\\x00\\x00\\x00\\x00\\x00\\x00\\x00\\x00\\x00\\x00\\x00\\x00\\x00\\x00\\x00T\\xc3\\xb8\\xc3\\xbd&\\x00\\x0f5\\xc2\\x96\\xc2\\xb7\\xc2\\xb7X\\x00\\x00\\x00\\x00\\x00\\x00\\x00\\x00\\x00\\x00\\x00\\x00\\x00\\x00\\x00\\x00\\x00\\x00\\xc3\\xa4\\xc3\\xbd&7\\xc3\\x86\\xc3\\xbd\\xc3\\xb3\\xc3\\x8f\\xc3\\xaf\\xc3\\xb1\\xc2\\x9f\\x12\\x00\\x00\\x00\\x00\\x00\\x00\\x00\\x00\\x00\\x00\\x00\\x00\\x00\\x00\\x00\\x00\\xc3\\xa4\\xc3\\xbd\\xc2\\x8aj\\xc3\\xb2rA\\x00;\\xc2\\xb1\\xc3\\xbda\\x00\\x00\\x00\\x00\\x00\\x00\\x00\\x00\\x00\\x00\\x00\\x00\\x00\\x00\\x00\\x00\\xc3\\x93\\xc3\\xbd\\xc3\\xbd\\xc3\\xbd\\xc2\\xa4\\x00\\x00\\x00\\x00(\\xc3\\xbd\\xc2\\xb5\\x00\\x00\\x00\\x00\\x00\\x00\\x00\\x00\\x00\\x00\\x00\\x00\\x00\\x00\\x00\\x00X\\xc3\\xba\\xc3\\xbd\\xc3\\xb5.\\x00\\x00\\x00\\x00(\\xc3\\xbd\\xc3\\xa3\\x00\\x00\\x00\\x00\\x00\\x00\\x00\\x00\\x00\\x00\\x00\\x00\\x00\\x00\\x00\\x00\\x00\\xc3\\x94\\xc3\\xbd\\xc3\\x9d)\\x00\\x00\\x00&\\xc2\\xa6\\xc3\\xbd\\xc2\\x96\\x00\\x00\\x00\\x00\\x00\\x00\\x00\\x00\\x00\\x00\\x00\\x00\\x00\\x00\\x00\\x00\\x00(\\xc3\\xa1\\xc3\\xbd\\xc3\\x9eo\\x0el\\xc3\\x9c\\xc3\\xbd\\xc3\\xa4*\\x00\\x00\\x00\\x00\\x00\\x00\\x00\\x00\\x00\\x00\\x00\\x00\\x00\\x00\\x00\\x00\\x00\\x00\\'\\xc3\\xa2\\xc3\\xbd\\xc3\\xbd\\xc3\\xbd\\xc3\\xbd\\xc3\\xbd\\xc3\\xa5*\\x00\\x00\\x00\\x00\\x00\\x00\\x00\\x00\\x00\\x00\\x00\\x00\\x00\\x00\\x00\\x00\\x00\\x00\\x00\\x00\\'{\\xc3\\xa0\\xc3\\xbd\\xc2\\x9f{)\\x00\\x00\\x00\\x00\\x00\\x00\\x00\\x00\\x00\\x00\\x00\\x00\\x00\\x00\\x00\\x00\\x00\\x00\\x00\\x00\\x00\\x00\\x00\\x00\\x00\\x00\\x00\\x00\\x00\\x00\\x00\\x00\\x00\\x00\\x00\\x00\\x00\\x00\\x00\\x00\\x00\\x00\\x00\\x00\\x00\\x00\\x00\\x00\\x00\\x00\\x00\\x00\\x00\\x00\\x00\\x00\\x00\\x00\\x00\\x00\\x00\\x00\\x00\\x00\\x00\\x00\\x00\\x00\\x00\\x00\\x00\\x00\\x00\\x00\\x00\\x00\\x00\\x00\\x00\\x00\\x00\\x00\\x00\\x00\\x00\\x00\\x00\\x00\\x00\\x00\\x00\\x00\\x00\\x00\\x00\\x00\\x00\\x00\\x00\\x00\\x00\\x00\\x00\\x00\\x00\\x00\\x00\\x00\\x00\\x00\\x00\\x00\\x00\\x00\\x00\\x00\\x00\\x00\\x00\\x00\\x00\\x00\\x00\\x00\\x00\\x00\\x00\\x00\\x00\\x00\\x00\\x00\\x00\\x00\\x00\\x00\\x00\\x00\\x00\\x00\\x00\\x00\\x00\\x00\\x00\\x00\\x00\\x00q\\x11h\\x05\\x86q\\x12Rq\\x13tq\\x14b.'"
      ]
     },
     "execution_count": 26,
     "metadata": {},
     "output_type": "execute_result"
    }
   ],
   "source": [
    "get_img_bytes([6,7])"
   ]
  },
  {
   "cell_type": "code",
   "execution_count": 27,
   "metadata": {},
   "outputs": [
    {
     "name": "stdout",
     "output_type": "stream",
     "text": [
      "{'message': 'OK', 'status-code': 200, 'data': {'message': 'Welcome. See /docs for more information about the api'}}\n"
     ]
    }
   ],
   "source": [
    "response = requests.get(\"http://localhost:8000/\")\n",
    "print(json.loads(response.text))"
   ]
  },
  {
   "cell_type": "code",
   "execution_count": 28,
   "metadata": {},
   "outputs": [
    {
     "name": "stdout",
     "output_type": "stream",
     "text": [
      "{'message': 'OK', 'status-code': 200, 'data': {'Name': 'MDSIST-CNN', 'Short Description': 'This is a Convolutional Neural Network (CNN) model to classify grayscale images from the MNIST dataset.', 'Description': 'The primary intended use of this model is to classify images of handwritten digits from the MNIST dataset into one of ten categories (0-9). It was specifically designed for image classification tasks without requiring additional fine-tuning or integration into larger applications. This model is ideal for educational, research, and benchmarking purposes within the field of machine learning, particularly in the area of digit recognition.', 'Layers': {'CNN (CNN)': ['Conv2d (conv1): 1-1', 'Conv2d (conv2): 1-2', 'Linear (fc1): 1-3', 'Linear (fc2): 1-4', 'MaxPool2d (pool): 1-5']}, 'Total parameters': 206922, 'Trainable params': 206922, 'Total param bytes': 827688}}\n"
     ]
    }
   ],
   "source": [
    "response = requests.get(\"http://localhost:8000/info\")\n",
    "print(json.loads(response.text))"
   ]
  },
  {
   "cell_type": "markdown",
   "metadata": {},
   "source": [
    "Now, it should work fine"
   ]
  },
  {
   "cell_type": "code",
   "execution_count": 29,
   "metadata": {},
   "outputs": [
    {
     "data": {
      "image/png": "[encoded data removed]",
      "text/plain": [
       "<Figure size 640x480 with 1 Axes>"
      ]
     },
     "metadata": {},
     "output_type": "display_data"
    },
    {
     "name": "stdout",
     "output_type": "stream",
     "text": [
      "{\"detail\":[{\"type\":\"missing\",\"loc\":[\"body\",\"files\"],\"msg\":\"Field required\",\"input\":null}]}\n"
     ]
    }
   ],
   "source": [
    "# Set the headers to indicate the content type as 'application/octet-stream'\n",
    "#headers = {'Content-Type': 'application/octet-stream'}\n",
    "resp = requests.post(\"http://localhost:8000/mnist-model-prediction\",data={\"format\":\"raw\"} ,files=[('data',get_img_bytes([7]))])\n",
    "print(resp.text)"
   ]
  },
  {
   "cell_type": "markdown",
   "metadata": {},
   "source": [
    "### Summary testing"
   ]
  },
  {
   "cell_type": "code",
   "execution_count": 30,
   "metadata": {},
   "outputs": [],
   "source": [
    "a:torchinfo.ModelStatistics = torchinfo.summary(model)\n"
   ]
  },
  {
   "cell_type": "markdown",
   "metadata": {},
   "source": [
    "more testing"
   ]
  },
  {
   "cell_type": "code",
   "execution_count": 31,
   "metadata": {},
   "outputs": [
    {
     "data": {
      "text/plain": [
       "'Linear (fc1): 1-3'"
      ]
     },
     "execution_count": 31,
     "metadata": {},
     "output_type": "execute_result"
    }
   ],
   "source": [
    "a.total_param_bytes\n",
    "t:list[LayerInfo] = a.summary_list\n",
    "li:LayerInfo = t[3]\n",
    "li.get_layer_name(True,True)"
   ]
  }
 ],
 "metadata": {
  "kernelspec": {
   "display_name": "mdsist-j1bbbV5p-py3.9",
   "language": "python",
   "name": "python3"
  },
  "language_info": {
   "codemirror_mode": {
    "name": "ipython",
    "version": 3
   },
   "file_extension": ".py",
   "mimetype": "text/x-python",
   "name": "python",
   "nbconvert_exporter": "python",
   "pygments_lexer": "ipython3",
   "version": "3.9.7"
  }
 },
 "nbformat": 4,
 "nbformat_minor": 2
}
